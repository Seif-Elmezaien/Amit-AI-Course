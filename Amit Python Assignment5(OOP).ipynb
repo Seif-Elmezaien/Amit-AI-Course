{
 "cells": [
  {
   "cell_type": "markdown",
   "id": "1fb05de1-3f8b-4e86-a62c-ede34c2756cf",
   "metadata": {},
   "source": [
    "# Task 1 :Write a Python program to create a calculator class. Include methods for basic arithmetic operations:"
   ]
  },
  {
   "cell_type": "code",
   "execution_count": 23,
   "id": "ac60981c-6a5d-488b-a21d-b69df877c755",
   "metadata": {},
   "outputs": [],
   "source": [
    "class Calc():\n",
    "    def __init__(self, num1, num2):\n",
    "        self.num1 = num1\n",
    "        self.num2 = num2\n",
    "    def add(self):\n",
    "        print(f\"{self.num1} + {self.num2} = {self.num1 + self.num2}\")\n",
    "    def sub(self):\n",
    "        print(f\"{self.num1} - {self.num2} = {self.num1 - self.num2}\")\n",
    "    def mul(self):\n",
    "        print(f\"{self.num1} x {self.num2} = {self.num1 * self.num2}\")\n",
    "    def div(self):\n",
    "        print(f\"{self.num1} / {self.num2} = {self.num1 / self.num2}\")"
   ]
  },
  {
   "cell_type": "code",
   "execution_count": 25,
   "id": "15460f94-0f48-4930-a2a7-8b19a0e6e732",
   "metadata": {},
   "outputs": [
    {
     "name": "stdout",
     "output_type": "stream",
     "text": [
      "20 + 5 = 25\n",
      "20 / 5 = 4.0\n",
      "20 x 5 = 100\n",
      "20 - 5 = 15\n"
     ]
    }
   ],
   "source": [
    "calc = Calc(20,5)\n",
    "calc.add()\n",
    "calc.div()\n",
    "calc.mul()\n",
    "calc.sub()"
   ]
  },
  {
   "cell_type": "markdown",
   "id": "1defa103-2bdb-49b2-b9ac-a8eceee048ae",
   "metadata": {},
   "source": [
    "# Task 2: Rectangle class:"
   ]
  },
  {
   "cell_type": "code",
   "execution_count": 43,
   "id": "bbfce5be-0453-45d0-a82e-65bbe9f36fc0",
   "metadata": {},
   "outputs": [],
   "source": [
    "class Rectangle():\n",
    "    def __init__(self, length, width):\n",
    "        self.length = length\n",
    "        self.width = width\n",
    "\n",
    "    def Area(self):\n",
    "        return self.length * self.width\n",
    "\n",
    "    def Perimeter(self):\n",
    "        return 1/2 * (self.length + self.width)\n",
    "\n",
    "    def Display(self):\n",
    "        print(f\"the length = {self.length} and width = {self.width}\")\n",
    "        print(f\"Area = {self.Area()} and Perimeter = {self.Perimeter()}\")"
   ]
  },
  {
   "cell_type": "code",
   "execution_count": 57,
   "id": "118bee5e-674a-41bb-acfe-022e654f1486",
   "metadata": {},
   "outputs": [
    {
     "name": "stdout",
     "output_type": "stream",
     "text": [
      "the length = 4 and width = 5\n",
      "Area = 20 and Perimeter = 4.5\n"
     ]
    }
   ],
   "source": [
    "rectangle = Rectangle(4 , 5)\n",
    "rectangle.Display()"
   ]
  },
  {
   "cell_type": "code",
   "execution_count": 85,
   "id": "2ff45f8f-389c-4b7e-b4b0-d4e7f8639b24",
   "metadata": {},
   "outputs": [],
   "source": [
    "class Parallelepipede(Rectangle):\n",
    "        def __init__(self, length, width, height):\n",
    "            super().__init__(length, width)\n",
    "            self.height = height\n",
    "        def Volume(self):\n",
    "            print(f\"Volume = {self.Area() * self.height}\")"
   ]
  },
  {
   "cell_type": "code",
   "execution_count": 89,
   "id": "508dc75d-bd06-4c79-9dd3-6f355656c0f1",
   "metadata": {},
   "outputs": [
    {
     "name": "stdout",
     "output_type": "stream",
     "text": [
      "Volume = 200\n"
     ]
    }
   ],
   "source": [
    "parallelepipede = Parallelepipede(4, 5, 10)\n",
    "parallelepipede.Volume()"
   ]
  },
  {
   "cell_type": "markdown",
   "id": "310c1283-8934-446b-888a-9b70906c5597",
   "metadata": {},
   "source": [
    "# Task 3: Person class and child Student class:"
   ]
  },
  {
   "cell_type": "code",
   "execution_count": 93,
   "id": "63b2f42c-4a0d-4307-92dd-b733f46da24f",
   "metadata": {},
   "outputs": [],
   "source": [
    "class Person():\n",
    "    def __init__(self, name, age):\n",
    "        self.name = name\n",
    "        self.age = age\n",
    "    def Display(self):\n",
    "        print(f\"name = {self.name} age = {self.age}\")"
   ]
  },
  {
   "cell_type": "code",
   "execution_count": 103,
   "id": "51701871-2ee0-4ee1-a277-2fca255fd928",
   "metadata": {},
   "outputs": [],
   "source": [
    "class Student(Person):\n",
    "    def __init__(self, name, age, section):\n",
    "        super().__init__(name,age)\n",
    "        self.section = section\n",
    "    def Display(self):\n",
    "        print(f\"name = {self.name} age = {self.age} section {self.section}\")"
   ]
  },
  {
   "cell_type": "code",
   "execution_count": 105,
   "id": "2a551200-3dc1-4f57-9581-57554cd27ad3",
   "metadata": {},
   "outputs": [
    {
     "name": "stdout",
     "output_type": "stream",
     "text": [
      "name = seif age = 19 section CS\n"
     ]
    }
   ],
   "source": [
    "student = Student(\"seif\", 19, \"CS\")\n",
    "person = Person(\"name\", 11)\n",
    "perso.Display\n",
    "student.Display()\n"
   ]
  },
  {
   "cell_type": "code",
   "execution_count": null,
   "id": "f0ce9ec4-e93a-4565-9625-e99046d18213",
   "metadata": {},
   "outputs": [],
   "source": []
  }
 ],
 "metadata": {
  "kernelspec": {
   "display_name": "Python 3 (ipykernel)",
   "language": "python",
   "name": "python3"
  },
  "language_info": {
   "codemirror_mode": {
    "name": "ipython",
    "version": 3
   },
   "file_extension": ".py",
   "mimetype": "text/x-python",
   "name": "python",
   "nbconvert_exporter": "python",
   "pygments_lexer": "ipython3",
   "version": "3.11.7"
  }
 },
 "nbformat": 4,
 "nbformat_minor": 5
}
