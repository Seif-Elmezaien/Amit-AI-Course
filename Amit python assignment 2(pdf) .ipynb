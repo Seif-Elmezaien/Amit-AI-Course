{
 "cells": [
  {
   "cell_type": "markdown",
   "id": "3f3f7889-a845-4f9d-b055-0a508011b363",
   "metadata": {},
   "source": [
    "## 1. Write a Python program to add an item to a tuple."
   ]
  },
  {
   "cell_type": "code",
   "execution_count": 9,
   "id": "b8207a4b-ae14-4fd1-afad-b8a0b2bc368e",
   "metadata": {},
   "outputs": [
    {
     "data": {
      "text/plain": [
       "(1, 2, 3, 5)"
      ]
     },
     "execution_count": 9,
     "metadata": {},
     "output_type": "execute_result"
    }
   ],
   "source": [
    "x = (1,2,3)\n",
    "z = x + (5,)\n",
    "z"
   ]
  },
  {
   "cell_type": "markdown",
   "id": "15379243-fda0-48e4-8173-e6d29847c440",
   "metadata": {},
   "source": [
    "## 2. Write a Python program to sum all the items in a list."
   ]
  },
  {
   "cell_type": "code",
   "execution_count": 31,
   "id": "da79103c-b7be-44e7-9b63-90ccfae43e24",
   "metadata": {},
   "outputs": [
    {
     "data": {
      "text/plain": [
       "10"
      ]
     },
     "execution_count": 31,
     "metadata": {},
     "output_type": "execute_result"
    }
   ],
   "source": [
    "x = [1,2,3,4]\n",
    "sum(x)"
   ]
  },
  {
   "cell_type": "code",
   "execution_count": 33,
   "id": "f50ffb2b-53b8-49a4-98dd-4ea2fc7aef5c",
   "metadata": {},
   "outputs": [
    {
     "name": "stdout",
     "output_type": "stream",
     "text": [
      "6\n"
     ]
    }
   ],
   "source": [
    "summ = 0\n",
    "for i in range(len(x)):\n",
    "    summ += i\n",
    "print(summ)"
   ]
  },
  {
   "cell_type": "markdown",
   "id": "244aa0dc-d57d-40e9-a59a-969d2991f424",
   "metadata": {},
   "source": [
    "## 3. Write a Python program to multiply all the items in a list."
   ]
  },
  {
   "cell_type": "code",
   "execution_count": 36,
   "id": "2dd3016f-022c-4738-bb98-7aaddd1e7cfb",
   "metadata": {},
   "outputs": [
    {
     "data": {
      "text/plain": [
       "24"
      ]
     },
     "execution_count": 36,
     "metadata": {},
     "output_type": "execute_result"
    }
   ],
   "source": [
    "x = [1,2,3,4]\n",
    "mul = 1\n",
    "for i in x:\n",
    "    mul *= i\n",
    "mul"
   ]
  },
  {
   "cell_type": "markdown",
   "id": "430cf817-aef0-4a31-b370-81bba3ab06a6",
   "metadata": {},
   "source": [
    "## 4. Write a Python program to get the smallest number from a list."
   ]
  },
  {
   "cell_type": "code",
   "execution_count": 47,
   "id": "6c6d3597-eaa9-4267-b475-35a15681708e",
   "metadata": {},
   "outputs": [
    {
     "data": {
      "text/plain": [
       "10"
      ]
     },
     "execution_count": 47,
     "metadata": {},
     "output_type": "execute_result"
    }
   ],
   "source": [
    "x = [10,20,30,40]\n",
    "min(x)"
   ]
  },
  {
   "cell_type": "code",
   "execution_count": 59,
   "id": "329df249-1edd-4937-8eb5-a65e5228b6cb",
   "metadata": {},
   "outputs": [
    {
     "name": "stdout",
     "output_type": "stream",
     "text": [
      "\n",
      "\n",
      "\n",
      "\n",
      "10\n"
     ]
    }
   ],
   "source": [
    "mini = x[0]\n",
    "for i in x:\n",
    "    print()\n",
    "    if i < mini:\n",
    "        mini = i\n",
    "print(mini)"
   ]
  },
  {
   "cell_type": "markdown",
   "id": "2b92cadf-4074-4d4c-8cbe-24e2928c78d1",
   "metadata": {},
   "source": [
    "## 5. Write a Python program to get the largest number from a list."
   ]
  },
  {
   "cell_type": "code",
   "execution_count": 62,
   "id": "700cd536-722a-4807-9083-fd13c9c60c7c",
   "metadata": {},
   "outputs": [
    {
     "data": {
      "text/plain": [
       "40"
      ]
     },
     "execution_count": 62,
     "metadata": {},
     "output_type": "execute_result"
    }
   ],
   "source": [
    "x = [10,20,30,40]\n",
    "max(x)"
   ]
  },
  {
   "cell_type": "code",
   "execution_count": 64,
   "id": "150f4e5e-5efc-4a19-a69d-2a03923aa49c",
   "metadata": {},
   "outputs": [
    {
     "data": {
      "text/plain": [
       "40"
      ]
     },
     "execution_count": 64,
     "metadata": {},
     "output_type": "execute_result"
    }
   ],
   "source": [
    "maxi = x[0]\n",
    "for i in x:\n",
    "    if maxi < i:\n",
    "        maxi = i\n",
    "maxi"
   ]
  },
  {
   "cell_type": "markdown",
   "id": "10a2366b-4e76-440f-a3ff-02456fb6f44a",
   "metadata": {},
   "source": [
    "## 6. Write a Python program to count the number of strings from a given list of strings."
   ]
  },
  {
   "cell_type": "code",
   "execution_count": 68,
   "id": "27e29bb7-8ae5-4cf5-8fd7-daf1311b6f20",
   "metadata": {},
   "outputs": [
    {
     "data": {
      "text/plain": [
       "3"
      ]
     },
     "execution_count": 68,
     "metadata": {},
     "output_type": "execute_result"
    }
   ],
   "source": [
    "list = ['seif' , 'nabil' , 'ahmed']\n",
    "len(list)"
   ]
  },
  {
   "cell_type": "markdown",
   "id": "32df4a1f-3c2b-4501-90a9-859a36d16697",
   "metadata": {},
   "source": [
    "## 7. Write a Python program to clone or copy a list"
   ]
  },
  {
   "cell_type": "code",
   "execution_count": 77,
   "id": "9b41209b-7749-4283-a6d1-c1f876af63a1",
   "metadata": {},
   "outputs": [
    {
     "name": "stdout",
     "output_type": "stream",
     "text": [
      "clone\n"
     ]
    }
   ],
   "source": [
    "#clone\n",
    "x = [10,20,30]\n",
    "y = x \n",
    "if(y is x):\n",
    "    print(\"clone\")\n",
    "else:\n",
    "    print(\"copy\")"
   ]
  },
  {
   "cell_type": "code",
   "execution_count": 79,
   "id": "158c6527-bf22-44f7-93e8-0c9b28315f54",
   "metadata": {},
   "outputs": [
    {
     "name": "stdout",
     "output_type": "stream",
     "text": [
      "copy\n"
     ]
    }
   ],
   "source": [
    "x = [10,20,30]\n",
    "y = x.copy()\n",
    "if(y is x):\n",
    "    print(\"clone\")\n",
    "else:\n",
    "    print(\"copy\")"
   ]
  },
  {
   "cell_type": "markdown",
   "id": "0ec29968-24ef-4aa7-8adc-e606d516b15a",
   "metadata": {},
   "source": [
    "## 8. Write a Python program to remove item(s) from a given set."
   ]
  },
  {
   "cell_type": "code",
   "execution_count": 86,
   "id": "7171b77e-9590-4f2f-a017-c6d786d46d32",
   "metadata": {},
   "outputs": [
    {
     "data": {
      "text/plain": [
       "{2, 3, 4, 'seif'}"
      ]
     },
     "execution_count": 86,
     "metadata": {},
     "output_type": "execute_result"
    }
   ],
   "source": [
    "set = {1 ,2 , 3 , 4 , 'seif'}\n",
    "set.discard(1)\n",
    "set"
   ]
  },
  {
   "cell_type": "code",
   "execution_count": 2,
   "id": "93e6bebb-5a1e-4c3d-bba5-de69e20cb4ae",
   "metadata": {},
   "outputs": [
    {
     "data": {
      "text/plain": [
       "{2, 3, 4, 'seif'}"
      ]
     },
     "execution_count": 2,
     "metadata": {},
     "output_type": "execute_result"
    }
   ],
   "source": [
    "set1 = {1 ,2 , 3 , 4 , 'seif'}\n",
    "list1 = list(set1)\n",
    "list1.remove(1)\n",
    "set1 = set(list1)\n",
    "set1"
   ]
  },
  {
   "cell_type": "markdown",
   "id": "1e74ca3a-78f6-47ab-94f3-3def1959cc73",
   "metadata": {},
   "source": [
    "## 9. Write a Python program to check if a set is a subset of another set."
   ]
  },
  {
   "cell_type": "code",
   "execution_count": 11,
   "id": "4963e179-1d61-46d9-980f-e57a68074564",
   "metadata": {},
   "outputs": [
    {
     "name": "stdout",
     "output_type": "stream",
     "text": [
      "True\n"
     ]
    }
   ],
   "source": [
    "set1 = {1,2,3,4,5}\n",
    "set2 = {1,2,3}\n",
    "print(set2.issubset(set1))"
   ]
  },
  {
   "cell_type": "code",
   "execution_count": 23,
   "id": "c4dcccc1-f9d9-4679-8d6f-9e64ddbc4588",
   "metadata": {},
   "outputs": [
    {
     "data": {
      "text/plain": [
       "True"
      ]
     },
     "execution_count": 23,
     "metadata": {},
     "output_type": "execute_result"
    }
   ],
   "source": [
    "set1 = {1,2,3,4,5}\n",
    "set2 = {1,2,3}\n",
    "for i in set2:\n",
    "    retval = False\n",
    "    for k in set1:\n",
    "        if i == k:\n",
    "            retval = True\n",
    "            break\n",
    "\n",
    "retval"
   ]
  },
  {
   "cell_type": "markdown",
   "id": "5879c56e-4659-4857-aacb-7b20c8338534",
   "metadata": {},
   "source": [
    "## 10. Write a Python program to remove all elements from a given set."
   ]
  },
  {
   "cell_type": "code",
   "execution_count": 32,
   "id": "b5f1ee58-7f1f-47ad-b434-4808494bfd50",
   "metadata": {},
   "outputs": [
    {
     "name": "stdout",
     "output_type": "stream",
     "text": [
      "set()\n"
     ]
    }
   ],
   "source": [
    "set = {1,2,3,4}\n",
    "set.clear()\n",
    "print(set)"
   ]
  },
  {
   "cell_type": "markdown",
   "id": "9c54464e-3781-4ed0-9970-068e1ab5d915",
   "metadata": {},
   "source": [
    "## 11. Write a Python program to find the maximum and minimum values in a set."
   ]
  },
  {
   "cell_type": "code",
   "execution_count": 39,
   "id": "b7caddce-893b-46d7-829a-a5083331cffb",
   "metadata": {},
   "outputs": [
    {
     "name": "stdout",
     "output_type": "stream",
     "text": [
      "Max = 4 min = 1\n"
     ]
    }
   ],
   "source": [
    "set1 = {1,2,3,4}\n",
    "print(f\"Max = {max(set1)} min = {min(set1)}\")"
   ]
  },
  {
   "cell_type": "code",
   "execution_count": 41,
   "id": "3e5f7dfd-a5b2-4735-a020-b55cd6901f18",
   "metadata": {},
   "outputs": [
    {
     "name": "stdout",
     "output_type": "stream",
     "text": [
      "Max = 4 min = 1\n"
     ]
    }
   ],
   "source": [
    "list1 = list(set1)\n",
    "for i in list1:\n",
    "    max = list1[0]\n",
    "    min = list1[0]\n",
    "    if max < i:\n",
    "        max = i\n",
    "    if min > i:\n",
    "        min = i\n",
    "print(f\"Max = {max} min = {min}\")"
   ]
  },
  {
   "cell_type": "markdown",
   "id": "85ac783e-6284-4110-92ec-a9155f87ffb1",
   "metadata": {},
   "source": [
    "## 12. Write a Python program to find the index of an item in a tuple."
   ]
  },
  {
   "cell_type": "code",
   "execution_count": 44,
   "id": "403910a7-c24f-4a1a-a9e1-ba1584acd63c",
   "metadata": {},
   "outputs": [
    {
     "data": {
      "text/plain": [
       "3"
      ]
     },
     "execution_count": 44,
     "metadata": {},
     "output_type": "execute_result"
    }
   ],
   "source": [
    "tuple = (1,2,3,4)\n",
    "tuple.index(4)"
   ]
  },
  {
   "cell_type": "markdown",
   "id": "80513667-bd17-4b5e-8b51-e849d86d71e1",
   "metadata": {},
   "source": [
    "## 13. Write a Python program to convert a tuple to a dictionary."
   ]
  },
  {
   "cell_type": "code",
   "execution_count": 53,
   "id": "56efd741-0055-42f7-919c-c435e045b05b",
   "metadata": {},
   "outputs": [
    {
     "data": {
      "text/plain": [
       "{1: 2, 3: 4}"
      ]
     },
     "execution_count": 53,
     "metadata": {},
     "output_type": "execute_result"
    }
   ],
   "source": [
    "tuple = ((1,2),(3,4))\n",
    "dict = dict(tuple)\n",
    "dict"
   ]
  },
  {
   "cell_type": "markdown",
   "id": "674dec3b-ad01-42cc-887f-0f18be9629da",
   "metadata": {},
   "source": [
    "## 14. Write a Python program to unzip a list of tuples into individual lists."
   ]
  },
  {
   "cell_type": "code",
   "execution_count": 65,
   "id": "8d0ff22e-465f-404f-8ef0-a9b5251553aa",
   "metadata": {},
   "outputs": [
    {
     "name": "stdout",
     "output_type": "stream",
     "text": [
      "[1, 3] [2, 4]\n"
     ]
    }
   ],
   "source": [
    "tuple = ((1,2),(3,4))\n",
    "numbers1 , numbers2 = zip(*tuple)\n",
    "print(list(numbers1) , list(numbers2))"
   ]
  },
  {
   "cell_type": "markdown",
   "id": "ae51c601-43da-4eb4-8aca-eb59c35e6dd2",
   "metadata": {},
   "source": [
    "## 15. Write a Python program to reverse a tuple."
   ]
  },
  {
   "cell_type": "code",
   "execution_count": 1,
   "id": "d5b3fae4-33e5-415f-b1f2-88ce9d6bb3bc",
   "metadata": {},
   "outputs": [
    {
     "name": "stdout",
     "output_type": "stream",
     "text": [
      "(4, 3, 2, 1)\n"
     ]
    }
   ],
   "source": [
    "tuple1 = (1,2,3,4)\n",
    "temp = list(tuple1)\n",
    "temp.reverse()\n",
    "tuple2 = tuple(temp) \n",
    "print(tuple2)"
   ]
  },
  {
   "cell_type": "markdown",
   "id": "96fb4099-ce33-4f02-a519-2b98b98a026c",
   "metadata": {},
   "source": [
    "## 16. Write a Python program to convert a list of tuples into a dictionary."
   ]
  },
  {
   "cell_type": "code",
   "execution_count": 3,
   "id": "efa7a62b-eb93-4d1b-9f92-d9b8ab75038c",
   "metadata": {},
   "outputs": [
    {
     "data": {
      "text/plain": [
       "{1: 2, 3: 2, 'seif': 'nabil'}"
      ]
     },
     "execution_count": 3,
     "metadata": {},
     "output_type": "execute_result"
    }
   ],
   "source": [
    "list_of_tuples = [(1,2) , (3,2), (\"seif\" , 'nabil')]\n",
    "dic = dict(list_of_tuples)\n",
    "dic"
   ]
  },
  {
   "cell_type": "markdown",
   "id": "3ae339cb-82cc-4d48-90b0-ede4a77872a6",
   "metadata": {},
   "source": [
    "## 17. Write a Python program to replace the last value of tuples in a list."
   ]
  },
  {
   "cell_type": "code",
   "execution_count": 14,
   "id": "020c34d5-b9f2-4b5f-8346-7c93fe9e1a4c",
   "metadata": {},
   "outputs": [
    {
     "data": {
      "text/plain": [
       "[(10, 40, 100), (40, 60, 100), (70, 90, 100)]"
      ]
     },
     "execution_count": 14,
     "metadata": {},
     "output_type": "execute_result"
    }
   ],
   "source": [
    "x =  [(10, 20, 40), (40, 50, 60), (70, 80, 90)]\n",
    "x2 = []\n",
    "for i, k, z in x:\n",
    "    x2.append((i,z,100))\n",
    "x2"
   ]
  },
  {
   "cell_type": "markdown",
   "id": "2570bcd0-841e-4799-b22c-c564de0d19b2",
   "metadata": {},
   "source": [
    "## 18. Write a Python program to sort a tuple by its float element."
   ]
  },
  {
   "cell_type": "code",
   "execution_count": 25,
   "id": "dc3dc9f8-91a0-4df4-bf34-a222d57eebe6",
   "metadata": {},
   "outputs": [
    {
     "data": {
      "text/plain": [
       "(0.0, 1.0, 1.1, 1.2, 2.4, 3.3)"
      ]
     },
     "execution_count": 25,
     "metadata": {},
     "output_type": "execute_result"
    }
   ],
   "source": [
    "t = (0.0 , 3.3 , 1.2 , 1.0 , 1.1 , 2.4)\n",
    "t2 = list(t)\n",
    "t2.sort()\n",
    "t2 = tuple(t2)\n",
    "t2"
   ]
  },
  {
   "cell_type": "code",
   "execution_count": null,
   "id": "f079b4c1-6908-432b-85ba-0f1e68c12570",
   "metadata": {},
   "outputs": [],
   "source": []
  }
 ],
 "metadata": {
  "kernelspec": {
   "display_name": "Python 3 (ipykernel)",
   "language": "python",
   "name": "python3"
  },
  "language_info": {
   "codemirror_mode": {
    "name": "ipython",
    "version": 3
   },
   "file_extension": ".py",
   "mimetype": "text/x-python",
   "name": "python",
   "nbconvert_exporter": "python",
   "pygments_lexer": "ipython3",
   "version": "3.11.7"
  }
 },
 "nbformat": 4,
 "nbformat_minor": 5
}
