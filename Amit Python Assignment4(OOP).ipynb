{
 "cells": [
  {
   "cell_type": "markdown",
   "id": "151952d8-b646-4a6f-b047-94c633674930",
   "metadata": {},
   "source": [
    "# Task 1:Computation Class\n"
   ]
  },
  {
   "cell_type": "code",
   "execution_count": 2,
   "id": "fd1ae6c9-4cdd-4208-9b7e-20d231523322",
   "metadata": {},
   "outputs": [],
   "source": [
    "class Computation():\n",
    "\n",
    "    \n",
    "    def Factorial(self, n):\n",
    "        if n == 1:\n",
    "            return 1\n",
    "        return n * self.Factorial(n-1)\n",
    "        \n",
    "   \n",
    "    def Sum(self, n):\n",
    "        sum = 0\n",
    "        for i in range(n+1):\n",
    "            sum += i\n",
    "        print(f\"sum = {sum}\")\n",
    "\n",
    "    \n",
    "    def testPrim(self, n):\n",
    "        retval = False\n",
    "        for i in range(2,n):\n",
    "            if(n % i == 0):\n",
    "                print(f\"{n} = {i} X {n//i}\")\n",
    "                retval = False\n",
    "                break\n",
    "            else:\n",
    "                retval = True\n",
    "        if retval == True:\n",
    "            print(f'{n} is prime')\n",
    "\n",
    "    \n",
    "    def testPrims(self, n , n2):\n",
    "        for i in range(n , n2):\n",
    "            self.testPrim(i)\n",
    "\n",
    "    \n",
    "    def tableMult(self,n):\n",
    "        for i in range(11):\n",
    "            print(f\"{n} X {i} = {n*i}\")\n",
    "\n",
    "    \n",
    "    def allTableMult(self):\n",
    "        for i in range(1,11):\n",
    "            print(f\"Multiplaction table of {i}\")\n",
    "            self.tableMult(i)\n",
    "            print()\n",
    "\n",
    "\n",
    "    def listDiv(self , n):\n",
    "        Ldiv = []\n",
    "        for i in range(2,n):\n",
    "            if(n % i == 0):\n",
    "                Ldiv.append(i)\n",
    "        return Ldiv\n",
    "\n",
    "    def listDivPrim(self,  n):\n",
    "        for i in self.listDiv(n):\n",
    "            self.testPrim(i)"
   ]
  },
  {
   "cell_type": "code",
   "execution_count": 3,
   "id": "fa4d5594-d766-4de6-b974-c4a1d22a49ca",
   "metadata": {},
   "outputs": [],
   "source": [
    "comp = Computation()"
   ]
  },
  {
   "cell_type": "code",
   "execution_count": 4,
   "id": "59fb24d3-2897-40a2-ae10-0a1a83dacf1d",
   "metadata": {},
   "outputs": [
    {
     "data": {
      "text/plain": [
       "120"
      ]
     },
     "execution_count": 4,
     "metadata": {},
     "output_type": "execute_result"
    }
   ],
   "source": [
    "comp.Factorial(5)"
   ]
  },
  {
   "cell_type": "code",
   "execution_count": 5,
   "id": "9ba1b237-8ec2-46cc-be60-a1ef47fc099e",
   "metadata": {},
   "outputs": [
    {
     "name": "stdout",
     "output_type": "stream",
     "text": [
      "sum = 15\n"
     ]
    }
   ],
   "source": [
    "comp.Sum(5)"
   ]
  },
  {
   "cell_type": "code",
   "execution_count": 6,
   "id": "a98b7b96-94d7-4530-ba2e-8beb8fcc501f",
   "metadata": {},
   "outputs": [
    {
     "name": "stdout",
     "output_type": "stream",
     "text": [
      "6 = 2 X 3\n"
     ]
    }
   ],
   "source": [
    "comp.testPrim(6)"
   ]
  },
  {
   "cell_type": "code",
   "execution_count": 7,
   "id": "061dc8cb-1d07-4f7f-8e1c-b49217ba9c9b",
   "metadata": {},
   "outputs": [
    {
     "name": "stdout",
     "output_type": "stream",
     "text": [
      "3 is prime\n",
      "4 = 2 X 2\n",
      "5 is prime\n",
      "6 = 2 X 3\n",
      "7 is prime\n",
      "8 = 2 X 4\n",
      "9 = 3 X 3\n"
     ]
    }
   ],
   "source": [
    "comp.testPrims(3,10)"
   ]
  },
  {
   "cell_type": "code",
   "execution_count": 8,
   "id": "54f5df60-69f5-46fa-837b-2f57b7d577bb",
   "metadata": {},
   "outputs": [
    {
     "name": "stdout",
     "output_type": "stream",
     "text": [
      "5 X 0 = 0\n",
      "5 X 1 = 5\n",
      "5 X 2 = 10\n",
      "5 X 3 = 15\n",
      "5 X 4 = 20\n",
      "5 X 5 = 25\n",
      "5 X 6 = 30\n",
      "5 X 7 = 35\n",
      "5 X 8 = 40\n",
      "5 X 9 = 45\n",
      "5 X 10 = 50\n"
     ]
    }
   ],
   "source": [
    "comp.tableMult(5)"
   ]
  },
  {
   "cell_type": "code",
   "execution_count": 9,
   "id": "e25c9d91-212b-4c76-ab4e-895f1f3ea00e",
   "metadata": {},
   "outputs": [
    {
     "name": "stdout",
     "output_type": "stream",
     "text": [
      "Multiplaction table of 1\n",
      "1 X 0 = 0\n",
      "1 X 1 = 1\n",
      "1 X 2 = 2\n",
      "1 X 3 = 3\n",
      "1 X 4 = 4\n",
      "1 X 5 = 5\n",
      "1 X 6 = 6\n",
      "1 X 7 = 7\n",
      "1 X 8 = 8\n",
      "1 X 9 = 9\n",
      "1 X 10 = 10\n",
      "\n",
      "Multiplaction table of 2\n",
      "2 X 0 = 0\n",
      "2 X 1 = 2\n",
      "2 X 2 = 4\n",
      "2 X 3 = 6\n",
      "2 X 4 = 8\n",
      "2 X 5 = 10\n",
      "2 X 6 = 12\n",
      "2 X 7 = 14\n",
      "2 X 8 = 16\n",
      "2 X 9 = 18\n",
      "2 X 10 = 20\n",
      "\n",
      "Multiplaction table of 3\n",
      "3 X 0 = 0\n",
      "3 X 1 = 3\n",
      "3 X 2 = 6\n",
      "3 X 3 = 9\n",
      "3 X 4 = 12\n",
      "3 X 5 = 15\n",
      "3 X 6 = 18\n",
      "3 X 7 = 21\n",
      "3 X 8 = 24\n",
      "3 X 9 = 27\n",
      "3 X 10 = 30\n",
      "\n",
      "Multiplaction table of 4\n",
      "4 X 0 = 0\n",
      "4 X 1 = 4\n",
      "4 X 2 = 8\n",
      "4 X 3 = 12\n",
      "4 X 4 = 16\n",
      "4 X 5 = 20\n",
      "4 X 6 = 24\n",
      "4 X 7 = 28\n",
      "4 X 8 = 32\n",
      "4 X 9 = 36\n",
      "4 X 10 = 40\n",
      "\n",
      "Multiplaction table of 5\n",
      "5 X 0 = 0\n",
      "5 X 1 = 5\n",
      "5 X 2 = 10\n",
      "5 X 3 = 15\n",
      "5 X 4 = 20\n",
      "5 X 5 = 25\n",
      "5 X 6 = 30\n",
      "5 X 7 = 35\n",
      "5 X 8 = 40\n",
      "5 X 9 = 45\n",
      "5 X 10 = 50\n",
      "\n",
      "Multiplaction table of 6\n",
      "6 X 0 = 0\n",
      "6 X 1 = 6\n",
      "6 X 2 = 12\n",
      "6 X 3 = 18\n",
      "6 X 4 = 24\n",
      "6 X 5 = 30\n",
      "6 X 6 = 36\n",
      "6 X 7 = 42\n",
      "6 X 8 = 48\n",
      "6 X 9 = 54\n",
      "6 X 10 = 60\n",
      "\n",
      "Multiplaction table of 7\n",
      "7 X 0 = 0\n",
      "7 X 1 = 7\n",
      "7 X 2 = 14\n",
      "7 X 3 = 21\n",
      "7 X 4 = 28\n",
      "7 X 5 = 35\n",
      "7 X 6 = 42\n",
      "7 X 7 = 49\n",
      "7 X 8 = 56\n",
      "7 X 9 = 63\n",
      "7 X 10 = 70\n",
      "\n",
      "Multiplaction table of 8\n",
      "8 X 0 = 0\n",
      "8 X 1 = 8\n",
      "8 X 2 = 16\n",
      "8 X 3 = 24\n",
      "8 X 4 = 32\n",
      "8 X 5 = 40\n",
      "8 X 6 = 48\n",
      "8 X 7 = 56\n",
      "8 X 8 = 64\n",
      "8 X 9 = 72\n",
      "8 X 10 = 80\n",
      "\n",
      "Multiplaction table of 9\n",
      "9 X 0 = 0\n",
      "9 X 1 = 9\n",
      "9 X 2 = 18\n",
      "9 X 3 = 27\n",
      "9 X 4 = 36\n",
      "9 X 5 = 45\n",
      "9 X 6 = 54\n",
      "9 X 7 = 63\n",
      "9 X 8 = 72\n",
      "9 X 9 = 81\n",
      "9 X 10 = 90\n",
      "\n",
      "Multiplaction table of 10\n",
      "10 X 0 = 0\n",
      "10 X 1 = 10\n",
      "10 X 2 = 20\n",
      "10 X 3 = 30\n",
      "10 X 4 = 40\n",
      "10 X 5 = 50\n",
      "10 X 6 = 60\n",
      "10 X 7 = 70\n",
      "10 X 8 = 80\n",
      "10 X 9 = 90\n",
      "10 X 10 = 100\n",
      "\n"
     ]
    }
   ],
   "source": [
    "comp.allTableMult()"
   ]
  },
  {
   "cell_type": "code",
   "execution_count": 10,
   "id": "5e32035d-ee0c-485b-9f34-65cd9fd26f6c",
   "metadata": {},
   "outputs": [
    {
     "data": {
      "text/plain": [
       "[2, 4, 5, 10]"
      ]
     },
     "execution_count": 10,
     "metadata": {},
     "output_type": "execute_result"
    }
   ],
   "source": [
    "comp.listDiv(20)"
   ]
  },
  {
   "cell_type": "code",
   "execution_count": 22,
   "id": "e144540b-dfa0-4214-8f78-931942775413",
   "metadata": {},
   "outputs": [
    {
     "name": "stdout",
     "output_type": "stream",
     "text": [
      "4 = 2 X 2\n",
      "5 is prime\n",
      "10 = 2 X 5\n"
     ]
    }
   ],
   "source": [
    "comp.listDivPrim(20)"
   ]
  },
  {
   "cell_type": "markdown",
   "id": "008cf7f7-d406-466a-a6bd-d94cd091e37b",
   "metadata": {},
   "source": [
    "# Task 2 : Shape Hierarchy (Inheritance & Polymorphism):"
   ]
  },
  {
   "cell_type": "code",
   "execution_count": 25,
   "id": "882b3511-8d46-4e63-8562-b37fbc50f7e1",
   "metadata": {},
   "outputs": [],
   "source": [
    "from abc import ABC, abstractmethod"
   ]
  },
  {
   "cell_type": "code",
   "execution_count": 33,
   "id": "99669cc9-dea8-4046-ad9d-65c35cc09178",
   "metadata": {},
   "outputs": [],
   "source": [
    "class Shape(ABC):\n",
    "    @abstractmethod\n",
    "    def Area(self):\n",
    "        pass"
   ]
  },
  {
   "cell_type": "code",
   "execution_count": 35,
   "id": "f2fd552e-ec21-480c-8a90-6c8914390b8e",
   "metadata": {},
   "outputs": [],
   "source": [
    "class Triangle(Shape):\n",
    "    def Area(self, base, height):\n",
    "        return 1/2 * base * height        "
   ]
  },
  {
   "cell_type": "code",
   "execution_count": 47,
   "id": "89b1d294-77a3-4af9-8e74-762a8284b358",
   "metadata": {},
   "outputs": [],
   "source": [
    "class Circle(Shape):\n",
    "    def Area(self, radius):\n",
    "        return 3.14 * radius * radius  "
   ]
  },
  {
   "cell_type": "code",
   "execution_count": 39,
   "id": "c8ac335c-8add-421c-8da1-6497ac4f8940",
   "metadata": {},
   "outputs": [],
   "source": [
    "class Rectangle(Shape):\n",
    "    def Area(self, width, height):\n",
    "        return width * height    "
   ]
  },
  {
   "cell_type": "code",
   "execution_count": 49,
   "id": "0ad60c18-8785-475b-a6bb-1a5e95bae7bd",
   "metadata": {},
   "outputs": [
    {
     "name": "stdout",
     "output_type": "stream",
     "text": [
      "Area triangle = 10.0\n",
      "Area Circle = 78.5\n",
      "Area Rectangle = 20\n"
     ]
    }
   ],
   "source": [
    "triangle = Triangle()\n",
    "circle = Circle()\n",
    "rectangle = Rectangle()\n",
    "print(f\"Area triangle = {triangle.Area(5,4)}\")\n",
    "print(f\"Area Circle = {circle.Area(5)}\")\n",
    "print(f\"Area Rectangle = {rectangle.Area(5,4)}\")"
   ]
  },
  {
   "cell_type": "code",
   "execution_count": null,
   "id": "226be138-4187-4584-96bd-6d80ae082a55",
   "metadata": {},
   "outputs": [],
   "source": []
  }
 ],
 "metadata": {
  "kernelspec": {
   "display_name": "Python 3 (ipykernel)",
   "language": "python",
   "name": "python3"
  },
  "language_info": {
   "codemirror_mode": {
    "name": "ipython",
    "version": 3
   },
   "file_extension": ".py",
   "mimetype": "text/x-python",
   "name": "python",
   "nbconvert_exporter": "python",
   "pygments_lexer": "ipython3",
   "version": "3.11.7"
  }
 },
 "nbformat": 4,
 "nbformat_minor": 5
}
