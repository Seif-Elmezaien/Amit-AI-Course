{
 "cells": [
  {
   "cell_type": "markdown",
   "id": "eb85c8da-65c1-4069-9273-5a957a7e957d",
   "metadata": {},
   "source": [
    "### 1) Write a program to print the maximum between two numbers. (one-line conditional statement)\n"
   ]
  },
  {
   "cell_type": "code",
   "execution_count": 12,
   "id": "8946e9e5-a6b1-4dd7-aee6-5cb21a61b5bc",
   "metadata": {},
   "outputs": [
    {
     "data": {
      "text/plain": [
       "5"
      ]
     },
     "execution_count": 12,
     "metadata": {},
     "output_type": "execute_result"
    }
   ],
   "source": [
    "x=5;y=3\n",
    "x if x > y else y"
   ]
  },
  {
   "cell_type": "markdown",
   "id": "489af71b-dc72-4349-95ee-055532e091f5",
   "metadata": {},
   "source": [
    "### 2) Write a program to find the maximum between three numbers.\n"
   ]
  },
  {
   "cell_type": "code",
   "execution_count": 20,
   "id": "ab47301a-0b34-4f7d-8c2c-654b7cf160c8",
   "metadata": {},
   "outputs": [
    {
     "data": {
      "text/plain": [
       "5"
      ]
     },
     "execution_count": 20,
     "metadata": {},
     "output_type": "execute_result"
    }
   ],
   "source": [
    "x=4;y=1;z=5\n",
    "x if x>y and x>z else y if y>z else z"
   ]
  },
  {
   "cell_type": "markdown",
   "id": "6daa80ea-7349-46c2-8123-b972a0297e84",
   "metadata": {},
   "source": [
    "### 3) Write a program to check whether a number is negative, or positive (one-line conditional statement)\n"
   ]
  },
  {
   "cell_type": "code",
   "execution_count": 28,
   "id": "ed91147a-97e2-453f-bff1-e652fa11d6cc",
   "metadata": {},
   "outputs": [
    {
     "data": {
      "text/plain": [
       "'Negative'"
      ]
     },
     "execution_count": 28,
     "metadata": {},
     "output_type": "execute_result"
    }
   ],
   "source": [
    "x = -1\n",
    "'Zero' if x == 0 else 'Postive' if x > 0 else 'Negative'"
   ]
  },
  {
   "cell_type": "markdown",
   "id": "850fc2e9-c79e-4fe6-86d5-4211e38f9b6f",
   "metadata": {},
   "source": [
    "### 4) Write a  program to check whether a number is even or odd  (one-line statement).\n"
   ]
  },
  {
   "cell_type": "code",
   "execution_count": 35,
   "id": "f5d68f00-e0f2-4cd7-86ad-3670a3e7c560",
   "metadata": {},
   "outputs": [
    {
     "data": {
      "text/plain": [
       "'even'"
      ]
     },
     "execution_count": 35,
     "metadata": {},
     "output_type": "execute_result"
    }
   ],
   "source": [
    "x = 4\n",
    "'even' if x % 2 == 0 else 'odd'"
   ]
  },
  {
   "cell_type": "markdown",
   "id": "5aab9583-68dc-469e-b498-2784ca4d1953",
   "metadata": {},
   "source": [
    "### 5) Write a  program to store the weekdays in a list and access the week day and print it by index.\n"
   ]
  },
  {
   "cell_type": "code",
   "execution_count": 37,
   "id": "20b86f32-a85e-474a-a93c-5f7095f1871f",
   "metadata": {},
   "outputs": [
    {
     "data": {
      "text/plain": [
       "'sunday'"
      ]
     },
     "execution_count": 37,
     "metadata": {},
     "output_type": "execute_result"
    }
   ],
   "source": [
    "weekend = ['sunday' , 'monday' , 'tuesday' , 'wednesday' , 'friday' , 'saturday']\n",
    "weekend.pop(0)"
   ]
  },
  {
   "cell_type": "markdown",
   "id": "e29a28b6-05a6-47b2-b9f9-cb1d3749ff3a",
   "metadata": {},
   "source": [
    "### 6)Write a program to store numbers in the List and print its reverse"
   ]
  },
  {
   "cell_type": "code",
   "execution_count": 39,
   "id": "c4b9bf16-932a-4904-a329-e3218877b286",
   "metadata": {},
   "outputs": [
    {
     "name": "stdin",
     "output_type": "stream",
     "text": [
      "how many numbers will you enter: 4\n",
      "Enter variable: 1\n",
      "Enter variable: 2\n",
      "Enter variable: 3\n",
      "Enter variable: 4\n"
     ]
    },
    {
     "name": "stdout",
     "output_type": "stream",
     "text": [
      "['4', '3', '2', '1']\n"
     ]
    }
   ],
   "source": [
    "list = []\n",
    "n = int(input(\"how many numbers will you enter:\"))\n",
    "for i in range(n):\n",
    "    num = input(\"Enter variable:\")\n",
    "    list.append(num)\n",
    "print(list[::-1])"
   ]
  },
  {
   "cell_type": "markdown",
   "id": "23b8da3e-835c-4056-a439-f49822f366c2",
   "metadata": {},
   "source": [
    "### 7) Write a program to print the multiplcation table of any number"
   ]
  },
  {
   "cell_type": "code",
   "execution_count": 41,
   "id": "694c1afc-1c11-4b4e-9830-d771edfa1613",
   "metadata": {},
   "outputs": [
    {
     "name": "stdout",
     "output_type": "stream",
     "text": [
      "4 X 0 = 0\n",
      "4 X 1 = 4\n",
      "4 X 2 = 8\n",
      "4 X 3 = 12\n",
      "4 X 4 = 16\n",
      "4 X 5 = 20\n",
      "4 X 6 = 24\n",
      "4 X 7 = 28\n",
      "4 X 8 = 32\n",
      "4 X 9 = 36\n",
      "4 X 10 = 40\n"
     ]
    }
   ],
   "source": [
    "x = 4\n",
    "for i in range(11):\n",
    "    print(f\"{x} X {i} = {x*i}\" )"
   ]
  },
  {
   "cell_type": "markdown",
   "id": "c7e45801-b7ee-4819-8a68-2c7f5d0bf7c5",
   "metadata": {},
   "source": [
    "### 8) Write a program to print all even numbers between 1 to 100.(using while loop and for loop)"
   ]
  },
  {
   "cell_type": "code",
   "execution_count": 50,
   "id": "99205873-b78b-4252-966c-0ab5055db18a",
   "metadata": {},
   "outputs": [
    {
     "name": "stdout",
     "output_type": "stream",
     "text": [
      "0\n",
      "2\n",
      "4\n",
      "6\n",
      "8\n",
      "10\n",
      "12\n",
      "14\n",
      "16\n",
      "18\n",
      "20\n",
      "22\n",
      "24\n",
      "26\n",
      "28\n",
      "30\n",
      "32\n",
      "34\n",
      "36\n",
      "38\n",
      "40\n",
      "42\n",
      "44\n",
      "46\n",
      "48\n",
      "50\n",
      "52\n",
      "54\n",
      "56\n",
      "58\n",
      "60\n",
      "62\n",
      "64\n",
      "66\n",
      "68\n",
      "70\n",
      "72\n",
      "74\n",
      "76\n",
      "78\n",
      "80\n",
      "82\n",
      "84\n",
      "86\n",
      "88\n",
      "90\n",
      "92\n",
      "94\n",
      "96\n",
      "98\n",
      "100\n"
     ]
    }
   ],
   "source": [
    "x = 0\n",
    "while x <= 100:\n",
    "    if(x % 2 == 0):\n",
    "        print(x)\n",
    "    x += 1"
   ]
  },
  {
   "cell_type": "code",
   "execution_count": 52,
   "id": "8bf9deb3-9589-4add-8894-727ee4009308",
   "metadata": {},
   "outputs": [
    {
     "name": "stdout",
     "output_type": "stream",
     "text": [
      "0\n",
      "2\n",
      "4\n",
      "6\n",
      "8\n",
      "10\n",
      "12\n",
      "14\n",
      "16\n",
      "18\n",
      "20\n",
      "22\n",
      "24\n",
      "26\n",
      "28\n",
      "30\n",
      "32\n",
      "34\n",
      "36\n",
      "38\n",
      "40\n",
      "42\n",
      "44\n",
      "46\n",
      "48\n",
      "50\n",
      "52\n",
      "54\n",
      "56\n",
      "58\n",
      "60\n",
      "62\n",
      "64\n",
      "66\n",
      "68\n",
      "70\n",
      "72\n",
      "74\n",
      "76\n",
      "78\n",
      "80\n",
      "82\n",
      "84\n",
      "86\n",
      "88\n",
      "90\n",
      "92\n",
      "94\n",
      "96\n",
      "98\n",
      "100\n"
     ]
    }
   ],
   "source": [
    "#8\n",
    "for i in range(101):\n",
    "    if(i % 2 == 0):\n",
    "        print(i)"
   ]
  },
  {
   "cell_type": "code",
   "execution_count": null,
   "id": "2d433a9a-2b95-4cfe-aec7-a51f268faa12",
   "metadata": {},
   "outputs": [],
   "source": []
  }
 ],
 "metadata": {
  "kernelspec": {
   "display_name": "Python 3 (ipykernel)",
   "language": "python",
   "name": "python3"
  },
  "language_info": {
   "codemirror_mode": {
    "name": "ipython",
    "version": 3
   },
   "file_extension": ".py",
   "mimetype": "text/x-python",
   "name": "python",
   "nbconvert_exporter": "python",
   "pygments_lexer": "ipython3",
   "version": "3.11.7"
  }
 },
 "nbformat": 4,
 "nbformat_minor": 5
}
