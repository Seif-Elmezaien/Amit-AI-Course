{
 "cells": [
  {
   "cell_type": "markdown",
   "id": "9d494e27-858f-4cf9-ba2f-fec41661f690",
   "metadata": {},
   "source": [
    "## 1. Implement Fibonacci series using recursion."
   ]
  },
  {
   "cell_type": "code",
   "execution_count": 21,
   "id": "7d67e9ed-9ead-4200-a96b-74be76863269",
   "metadata": {},
   "outputs": [
    {
     "name": "stdout",
     "output_type": "stream",
     "text": [
      "13\n"
     ]
    }
   ],
   "source": [
    "def fibb(number):\n",
    "    if number == 1:\n",
    "        return 1\n",
    "    if number == 0:\n",
    "        return 0\n",
    "    return fibb(number-1) + fibb(number-2)\n",
    "print(fibb(7))"
   ]
  },
  {
   "cell_type": "markdown",
   "id": "76742427-8565-434a-be7b-505c887562a4",
   "metadata": {},
   "source": [
    "## 2. Write a Python program to find all the unique words and count the frequency of occurenece from a given list of stings"
   ]
  },
  {
   "cell_type": "code",
   "execution_count": 28,
   "id": "ebc55d7f-a47f-4de6-a1ef-6660bcdd806d",
   "metadata": {},
   "outputs": [
    {
     "name": "stdout",
     "output_type": "stream",
     "text": [
      "mohamed = 2\n",
      "ali = 1\n",
      "seif = 3\n"
     ]
    }
   ],
   "source": [
    "words = [\"seif\" , \"mohamed\" , \"seif\" , \"mohamed\" , \"ali\" , \"seif\"]\n",
    "uniqueWords = set(words)\n",
    "for i in uniqueWords:\n",
    "    print(f\"{i} = {words.count(i)}\")"
   ]
  },
  {
   "cell_type": "markdown",
   "id": "5d525efe-aac0-4f4e-9509-be90f8dd5355",
   "metadata": {},
   "source": [
    "## 3. Write a Python program that finds all pairs of elements in a list whose sum is equal to a given value"
   ]
  },
  {
   "cell_type": "code",
   "execution_count": 148,
   "id": "1910740e-dd22-4007-b36c-5bfc0803107a",
   "metadata": {},
   "outputs": [],
   "source": [
    "def elements(x , listt):\n",
    "    count = 0\n",
    "    for i in range (len(listt)):\n",
    "        z = i\n",
    "        while z < len(listt):\n",
    "            if listt[i] + listt[z] == x:\n",
    "                print(f\"{x} = {listt[i]} + {listt[z]}\")\n",
    "                count += 1\n",
    "            z += 1\n",
    "    if count == 0:\n",
    "        print(\"your number is out of range\")\n",
    "    "
   ]
  },
  {
   "cell_type": "code",
   "execution_count": 156,
   "id": "58f034e4-ca10-418c-8a70-44174c877cd6",
   "metadata": {},
   "outputs": [
    {
     "name": "stdout",
     "output_type": "stream",
     "text": [
      "13 = 5 + 8\n",
      "13 = 7 + 6\n",
      "13 = 9 + 4\n"
     ]
    }
   ],
   "source": [
    "numbers = [1,3,5,7,9,8,6,4,2]\n",
    "sumToGet = 13\n",
    "elements(sumToGet, numbers)"
   ]
  },
  {
   "cell_type": "markdown",
   "id": "f3a7f86c-2230-4d91-97bb-ee48ef45fc9e",
   "metadata": {},
   "source": [
    "## Write a Python program to find the two numbers whose product is maximum among all the pairs in a given list of numbers"
   ]
  },
  {
   "cell_type": "code",
   "execution_count": 5,
   "id": "fdcbcb89-8c39-407a-897b-87111934ba86",
   "metadata": {},
   "outputs": [],
   "source": [
    "def maxProduct(l):\n",
    "    z = l.copy()\n",
    "    max1 = max(z)\n",
    "    z.remove(max1)\n",
    "    max2 = max(z)\n",
    "    maxproduct = max1 * max2       \n",
    "    print(f\"Max product = {maxproduct}\")"
   ]
  },
  {
   "cell_type": "code",
   "execution_count": 15,
   "id": "2ebe81cf-659c-4e04-b629-eea9837911fd",
   "metadata": {},
   "outputs": [
    {
     "name": "stdout",
     "output_type": "stream",
     "text": [
      "Max product = 140\n"
     ]
    }
   ],
   "source": [
    "l = [0,20,3,1,5,4,7]\n",
    "maxProduct(l)"
   ]
  },
  {
   "cell_type": "markdown",
   "id": "b50dd4a9-6b4d-4a16-99de-24f940c891d8",
   "metadata": {},
   "source": [
    "## 5. Write a Python function that takes a number as a parameter and checks whether the number is prime or not"
   ]
  },
  {
   "cell_type": "code",
   "execution_count": 30,
   "id": "b5ef3cdf-f289-4c34-9bbc-10e671690b85",
   "metadata": {},
   "outputs": [],
   "source": [
    "def isPrimeNumber(num):\n",
    "    retval = False\n",
    "    for i in range(2,num):\n",
    "        if(num % i == 0):\n",
    "            print(f\"{i} = {i} X {num//i}\")\n",
    "            retval = False\n",
    "            break\n",
    "        else:\n",
    "            retval = True\n",
    "    if retval == True:\n",
    "        print('your number is prime')"
   ]
  },
  {
   "cell_type": "code",
   "execution_count": 34,
   "id": "a7b8ab79-f2a1-490a-90ba-8f894248b5a4",
   "metadata": {},
   "outputs": [
    {
     "name": "stdout",
     "output_type": "stream",
     "text": [
      "2 = 2 X 5\n",
      "your number is prime\n"
     ]
    }
   ],
   "source": [
    "nonPrimeNum = 10\n",
    "primeNum = 13\n",
    "isPrimeNumber(nonPrimeNum)\n",
    "isPrimeNumber(primeNum)"
   ]
  },
  {
   "cell_type": "markdown",
   "id": "de1be7d1-56da-46f2-b0c6-1e9bc9760962",
   "metadata": {},
   "source": [
    "## 6. Write a Python function to print the even numbers from a given list"
   ]
  },
  {
   "cell_type": "code",
   "execution_count": 6,
   "id": "fadca153-deeb-4055-ae48-ddc14dbdb7bb",
   "metadata": {},
   "outputs": [
    {
     "name": "stdout",
     "output_type": "stream",
     "text": [
      "0\n",
      "2\n",
      "4\n",
      "6\n",
      "8\n",
      "10\n"
     ]
    }
   ],
   "source": [
    "def even(l):\n",
    "    for i in l:\n",
    "        if i % 2 == 0:\n",
    "            print(i) \n",
    "l = [0,1,2,3,4,5,6,7,8,9,10]\n",
    "even(l)"
   ]
  },
  {
   "cell_type": "markdown",
   "id": "e4d3197d-4a49-48e8-a1b0-db28ed2aa172",
   "metadata": {},
   "source": [
    "## 7.Write a function that will take a given string and reverse the order of words"
   ]
  },
  {
   "cell_type": "code",
   "execution_count": 8,
   "id": "56e604e9-c9e2-4abd-8f8d-9fc8f3b7c38c",
   "metadata": {},
   "outputs": [
    {
     "name": "stdout",
     "output_type": "stream",
     "text": [
      "('world', 'hello')\n"
     ]
    }
   ],
   "source": [
    "string = \"hello world\"\n",
    "def replace_1(x):\n",
    "    x=x.split()\n",
    "    return x[1] , x[0]\n",
    "print(replace_1(string))"
   ]
  },
  {
   "cell_type": "markdown",
   "id": "5504901d-4452-49a1-bab1-b221fb1c195a",
   "metadata": {},
   "source": [
    "## 8.Given an integer x, return true if x is a palindrome, and false otherwise"
   ]
  },
  {
   "cell_type": "code",
   "execution_count": 14,
   "id": "6fed3032-45e0-4032-883e-6fdfe0bc78a9",
   "metadata": {},
   "outputs": [
    {
     "data": {
      "text/plain": [
       "True"
      ]
     },
     "execution_count": 14,
     "metadata": {},
     "output_type": "execute_result"
    }
   ],
   "source": [
    "int = 1221\n",
    "string = str(int)\n",
    "rev=string[::-1]\n",
    "True if rev == string else False"
   ]
  },
  {
   "cell_type": "markdown",
   "id": "01d31023-34c1-455a-b76c-76610d0bcc9a",
   "metadata": {},
   "source": [
    "## 9.Write a Python function that checks whether a passed string is a palindrome or not"
   ]
  },
  {
   "cell_type": "code",
   "execution_count": 30,
   "id": "2e345906-2c03-402b-b7c1-f9b5d6cc188a",
   "metadata": {},
   "outputs": [
    {
     "name": "stdout",
     "output_type": "stream",
     "text": [
      "True\n"
     ]
    }
   ],
   "source": [
    "def rev (string):\n",
    "    rv=string[::-1]\n",
    "    return True if rv == string else False\n",
    "s = \"ses\"\n",
    "print(rev(s))"
   ]
  },
  {
   "cell_type": "markdown",
   "id": "c12e78d1-ee6d-4125-95a3-9e845a21817c",
   "metadata": {},
   "source": [
    "## 10. Write a Python function to create and print a list where the values are the squares of numbers between 1 and 30 (both included)."
   ]
  },
  {
   "cell_type": "code",
   "execution_count": 2,
   "id": "e4a14b23-4470-4f5b-a8a6-b1e6d6a82b70",
   "metadata": {},
   "outputs": [],
   "source": [
    "fun = lambda: [i**i for i in range(1,31)]\n"
   ]
  },
  {
   "cell_type": "code",
   "execution_count": 4,
   "id": "01f91bb1-08c0-43d1-8b0c-754da9ac3e6c",
   "metadata": {},
   "outputs": [
    {
     "data": {
      "text/plain": [
       "[1,\n",
       " 4,\n",
       " 27,\n",
       " 256,\n",
       " 3125,\n",
       " 46656,\n",
       " 823543,\n",
       " 16777216,\n",
       " 387420489,\n",
       " 10000000000,\n",
       " 285311670611,\n",
       " 8916100448256,\n",
       " 302875106592253,\n",
       " 11112006825558016,\n",
       " 437893890380859375,\n",
       " 18446744073709551616,\n",
       " 827240261886336764177,\n",
       " 39346408075296537575424,\n",
       " 1978419655660313589123979,\n",
       " 104857600000000000000000000,\n",
       " 5842587018385982521381124421,\n",
       " 341427877364219557396646723584,\n",
       " 20880467999847912034355032910567,\n",
       " 1333735776850284124449081472843776,\n",
       " 88817841970012523233890533447265625,\n",
       " 6156119580207157310796674288400203776,\n",
       " 443426488243037769948249630619149892803,\n",
       " 33145523113253374862572728253364605812736,\n",
       " 2567686153161211134561828214731016126483469,\n",
       " 205891132094649000000000000000000000000000000]"
      ]
     },
     "execution_count": 4,
     "metadata": {},
     "output_type": "execute_result"
    }
   ],
   "source": [
    "fun()"
   ]
  },
  {
   "cell_type": "code",
   "execution_count": null,
   "id": "04c9cbeb-30b3-4dee-90c8-62baf359c9fe",
   "metadata": {},
   "outputs": [],
   "source": []
  }
 ],
 "metadata": {
  "kernelspec": {
   "display_name": "Python 3 (ipykernel)",
   "language": "python",
   "name": "python3"
  },
  "language_info": {
   "codemirror_mode": {
    "name": "ipython",
    "version": 3
   },
   "file_extension": ".py",
   "mimetype": "text/x-python",
   "name": "python",
   "nbconvert_exporter": "python",
   "pygments_lexer": "ipython3",
   "version": "3.11.7"
  }
 },
 "nbformat": 4,
 "nbformat_minor": 5
}
